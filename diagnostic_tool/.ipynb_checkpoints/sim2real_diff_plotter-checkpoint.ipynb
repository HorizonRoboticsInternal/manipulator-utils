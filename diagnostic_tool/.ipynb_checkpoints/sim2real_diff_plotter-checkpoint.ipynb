{
 "cells": [
  {
   "cell_type": "markdown",
   "source": [
    "First load all necessary data."
   ],
   "metadata": {
    "collapsed": false
   },
   "id": "7657766bfec89ea0"
  },
  {
   "cell_type": "code",
   "execution_count": 1,
   "id": "initial_id",
   "metadata": {
    "collapsed": true,
    "ExecuteTime": {
     "end_time": "2024-02-28T20:02:06.974081Z",
     "start_time": "2024-02-28T20:02:06.777932Z"
    }
   },
   "outputs": [],
   "source": [
    "import dill\n",
    "import numpy as np\n",
    "import matplotlib.pyplot as plt\n",
    "from wx250s_kinematics import WX250sParams\n",
    "\n",
    "\n",
    "# Load all necessary files\n",
    "with open(\"data/joint_trajectories.pkl\", \"rb\") as f:\n",
    "    target = dill.load(f)\n",
    "\n",
    "with open(\"data/sim_trajectories.pkl\", \"rb\") as f:\n",
    "    sim_res = dill.load(f)\n",
    "\n",
    "with open(\"data/hw_trajectories.pkl\", \"rb\") as f:\n",
    "    hw_res = dill.load(f)"
   ]
  },
  {
   "cell_type": "code",
   "outputs": [],
   "source": [
    "# Concatenate each side of the triangle trajectory\n",
    "target = np.concatenate((target[0], target[1], target[2]))\n",
    "sim_res = np.concatenate((sim_res[0], sim_res[1], sim_res[2]))\n",
    "hw_res = np.concatenate((hw_res[0], hw_res[1], hw_res[2]))\n",
    "\n",
    "moving_time = 4.0\n",
    "num_trajs = 3\n",
    "total_moving_time = moving_time * num_trajs\n",
    "\n",
    "time_tar = np.linspace(0, moving_time * num_trajs, target.shape[0])\n",
    "time_sim = np.linspace(0, moving_time * num_trajs, sim_res.shape[0])\n",
    "time_hw = np.linspace(0, moving_time * num_trajs, hw_res.shape[0])"
   ],
   "metadata": {
    "collapsed": false
   },
   "id": "fe63e618748c6b19"
  },
  {
   "cell_type": "code",
   "outputs": [],
   "source": [
    "\n",
    "# Plot all angles by their joint type\n",
    "fig, ax = plt.subplots(2, 3, figsize=(16, 8))\n",
    "joint_names = WX250sParams().joint_names\n",
    "indices = [(0, 0), (0, 1), (0, 2), (1, 0), (1, 1), (1, 2)]\n",
    "for j, (x, y) in enumerate(indices):\n",
    "    ax[x, y].set_title(joint_names[j])\n",
    "    ax[x, y].plot(time_1, hw_res[:, j], label=\"hardware\")\n",
    "    ax[x, y].plot(time_2, sim_res[:, j], label=\"sim\")\n",
    "    ax[x, y].plot(time_3, target[:, j], label=\"target\")\n",
    "plt.legend(fontsize='x-large')\n",
    "plt.tight_layout()\n",
    "plt.show()\n"
   ],
   "metadata": {
    "collapsed": false
   },
   "id": "b257575803ff452"
  },
  {
   "cell_type": "markdown",
   "source": [],
   "metadata": {
    "collapsed": false
   },
   "id": "dc584eab95fbabff"
  }
 ],
 "metadata": {
  "kernelspec": {
   "display_name": "Python 3",
   "language": "python",
   "name": "python3"
  },
  "language_info": {
   "codemirror_mode": {
    "name": "ipython",
    "version": 2
   },
   "file_extension": ".py",
   "mimetype": "text/x-python",
   "name": "python",
   "nbconvert_exporter": "python",
   "pygments_lexer": "ipython2",
   "version": "2.7.6"
  }
 },
 "nbformat": 4,
 "nbformat_minor": 5
}
